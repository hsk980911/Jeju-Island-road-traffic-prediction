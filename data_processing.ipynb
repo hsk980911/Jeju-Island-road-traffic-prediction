{
 "cells": [
  {
   "cell_type": "code",
   "execution_count": 1,
   "metadata": {},
   "outputs": [],
   "source": [
    "import numpy as np\n",
    "import pandas as pd\n",
    "from sklearn.model_selection import train_test_split\n",
    "from sklearn.metrics import * \n",
    "\n",
    "from sklearn.ensemble import RandomForestRegressor\n",
    "from sklearn.preprocessing import LabelEncoder\n",
    "from sklearn.preprocessing import OneHotEncoder"
   ]
  },
  {
   "cell_type": "markdown",
   "metadata": {},
   "source": [
    "# Column 제거"
   ]
  },
  {
   "cell_type": "code",
   "execution_count": 2,
   "metadata": {
    "scrolled": true
   },
   "outputs": [
    {
     "data": {
      "text/html": [
       "<div>\n",
       "<style scoped>\n",
       "    .dataframe tbody tr th:only-of-type {\n",
       "        vertical-align: middle;\n",
       "    }\n",
       "\n",
       "    .dataframe tbody tr th {\n",
       "        vertical-align: top;\n",
       "    }\n",
       "\n",
       "    .dataframe thead th {\n",
       "        text-align: right;\n",
       "    }\n",
       "</style>\n",
       "<table border=\"1\" class=\"dataframe\">\n",
       "  <thead>\n",
       "    <tr style=\"text-align: right;\">\n",
       "      <th></th>\n",
       "      <th>id</th>\n",
       "      <th>base_date</th>\n",
       "      <th>day_of_week</th>\n",
       "      <th>base_hour</th>\n",
       "      <th>road_in_use</th>\n",
       "      <th>lane_count</th>\n",
       "      <th>road_rating</th>\n",
       "      <th>road_name</th>\n",
       "      <th>multi_linked</th>\n",
       "      <th>connect_code</th>\n",
       "      <th>...</th>\n",
       "      <th>road_type</th>\n",
       "      <th>start_node_name</th>\n",
       "      <th>start_latitude</th>\n",
       "      <th>start_longitude</th>\n",
       "      <th>start_turn_restricted</th>\n",
       "      <th>end_node_name</th>\n",
       "      <th>end_latitude</th>\n",
       "      <th>end_longitude</th>\n",
       "      <th>end_turn_restricted</th>\n",
       "      <th>target</th>\n",
       "    </tr>\n",
       "  </thead>\n",
       "  <tbody>\n",
       "    <tr>\n",
       "      <th>0</th>\n",
       "      <td>TRAIN_0000000</td>\n",
       "      <td>20220623</td>\n",
       "      <td>목</td>\n",
       "      <td>17</td>\n",
       "      <td>0</td>\n",
       "      <td>1</td>\n",
       "      <td>106</td>\n",
       "      <td>지방도1112호선</td>\n",
       "      <td>0</td>\n",
       "      <td>0</td>\n",
       "      <td>...</td>\n",
       "      <td>3</td>\n",
       "      <td>제3교래교</td>\n",
       "      <td>33.427747</td>\n",
       "      <td>126.662612</td>\n",
       "      <td>없음</td>\n",
       "      <td>제3교래교</td>\n",
       "      <td>33.427749</td>\n",
       "      <td>126.662335</td>\n",
       "      <td>없음</td>\n",
       "      <td>52.0</td>\n",
       "    </tr>\n",
       "    <tr>\n",
       "      <th>1</th>\n",
       "      <td>TRAIN_0000001</td>\n",
       "      <td>20220728</td>\n",
       "      <td>목</td>\n",
       "      <td>21</td>\n",
       "      <td>0</td>\n",
       "      <td>2</td>\n",
       "      <td>103</td>\n",
       "      <td>일반국도11호선</td>\n",
       "      <td>0</td>\n",
       "      <td>0</td>\n",
       "      <td>...</td>\n",
       "      <td>0</td>\n",
       "      <td>광양사거리</td>\n",
       "      <td>33.500730</td>\n",
       "      <td>126.529107</td>\n",
       "      <td>있음</td>\n",
       "      <td>KAL사거리</td>\n",
       "      <td>33.504811</td>\n",
       "      <td>126.526240</td>\n",
       "      <td>없음</td>\n",
       "      <td>30.0</td>\n",
       "    </tr>\n",
       "    <tr>\n",
       "      <th>2</th>\n",
       "      <td>TRAIN_0000002</td>\n",
       "      <td>20211010</td>\n",
       "      <td>일</td>\n",
       "      <td>7</td>\n",
       "      <td>0</td>\n",
       "      <td>2</td>\n",
       "      <td>103</td>\n",
       "      <td>일반국도16호선</td>\n",
       "      <td>0</td>\n",
       "      <td>0</td>\n",
       "      <td>...</td>\n",
       "      <td>0</td>\n",
       "      <td>창고천교</td>\n",
       "      <td>33.279145</td>\n",
       "      <td>126.368598</td>\n",
       "      <td>없음</td>\n",
       "      <td>상창육교</td>\n",
       "      <td>33.280072</td>\n",
       "      <td>126.362147</td>\n",
       "      <td>없음</td>\n",
       "      <td>61.0</td>\n",
       "    </tr>\n",
       "    <tr>\n",
       "      <th>3</th>\n",
       "      <td>TRAIN_0000003</td>\n",
       "      <td>20220311</td>\n",
       "      <td>금</td>\n",
       "      <td>13</td>\n",
       "      <td>0</td>\n",
       "      <td>2</td>\n",
       "      <td>107</td>\n",
       "      <td>태평로</td>\n",
       "      <td>0</td>\n",
       "      <td>0</td>\n",
       "      <td>...</td>\n",
       "      <td>0</td>\n",
       "      <td>남양리조트</td>\n",
       "      <td>33.246081</td>\n",
       "      <td>126.567204</td>\n",
       "      <td>없음</td>\n",
       "      <td>서현주택</td>\n",
       "      <td>33.245565</td>\n",
       "      <td>126.566228</td>\n",
       "      <td>없음</td>\n",
       "      <td>20.0</td>\n",
       "    </tr>\n",
       "    <tr>\n",
       "      <th>4</th>\n",
       "      <td>TRAIN_0000004</td>\n",
       "      <td>20211005</td>\n",
       "      <td>화</td>\n",
       "      <td>8</td>\n",
       "      <td>0</td>\n",
       "      <td>2</td>\n",
       "      <td>103</td>\n",
       "      <td>일반국도12호선</td>\n",
       "      <td>0</td>\n",
       "      <td>0</td>\n",
       "      <td>...</td>\n",
       "      <td>0</td>\n",
       "      <td>애월샷시</td>\n",
       "      <td>33.462214</td>\n",
       "      <td>126.326551</td>\n",
       "      <td>없음</td>\n",
       "      <td>애월입구</td>\n",
       "      <td>33.462677</td>\n",
       "      <td>126.330152</td>\n",
       "      <td>없음</td>\n",
       "      <td>38.0</td>\n",
       "    </tr>\n",
       "  </tbody>\n",
       "</table>\n",
       "<p>5 rows × 24 columns</p>\n",
       "</div>"
      ],
      "text/plain": [
       "              id  base_date day_of_week  base_hour  road_in_use  lane_count  \\\n",
       "0  TRAIN_0000000   20220623           목         17            0           1   \n",
       "1  TRAIN_0000001   20220728           목         21            0           2   \n",
       "2  TRAIN_0000002   20211010           일          7            0           2   \n",
       "3  TRAIN_0000003   20220311           금         13            0           2   \n",
       "4  TRAIN_0000004   20211005           화          8            0           2   \n",
       "\n",
       "   road_rating  road_name  multi_linked  connect_code  ...  road_type  \\\n",
       "0          106  지방도1112호선             0             0  ...          3   \n",
       "1          103   일반국도11호선             0             0  ...          0   \n",
       "2          103   일반국도16호선             0             0  ...          0   \n",
       "3          107        태평로             0             0  ...          0   \n",
       "4          103   일반국도12호선             0             0  ...          0   \n",
       "\n",
       "   start_node_name  start_latitude  start_longitude  start_turn_restricted  \\\n",
       "0            제3교래교       33.427747       126.662612                     없음   \n",
       "1            광양사거리       33.500730       126.529107                     있음   \n",
       "2             창고천교       33.279145       126.368598                     없음   \n",
       "3            남양리조트       33.246081       126.567204                     없음   \n",
       "4             애월샷시       33.462214       126.326551                     없음   \n",
       "\n",
       "  end_node_name  end_latitude  end_longitude end_turn_restricted target  \n",
       "0         제3교래교     33.427749     126.662335                  없음   52.0  \n",
       "1        KAL사거리     33.504811     126.526240                  없음   30.0  \n",
       "2          상창육교     33.280072     126.362147                  없음   61.0  \n",
       "3          서현주택     33.245565     126.566228                  없음   20.0  \n",
       "4          애월입구     33.462677     126.330152                  없음   38.0  \n",
       "\n",
       "[5 rows x 24 columns]"
      ]
     },
     "execution_count": 2,
     "metadata": {},
     "output_type": "execute_result"
    }
   ],
   "source": [
    "train_df = pd.read_csv('../data/train.csv')\n",
    "train_df.head()"
   ]
  },
  {
   "cell_type": "code",
   "execution_count": 3,
   "metadata": {},
   "outputs": [
    {
     "data": {
      "text/plain": [
       "Index(['id', 'base_date', 'day_of_week', 'base_hour', 'road_in_use',\n",
       "       'lane_count', 'road_rating', 'road_name', 'multi_linked',\n",
       "       'connect_code', 'maximum_speed_limit', 'vehicle_restricted',\n",
       "       'weight_restricted', 'height_restricted', 'road_type',\n",
       "       'start_node_name', 'start_latitude', 'start_longitude',\n",
       "       'start_turn_restricted', 'end_node_name', 'end_latitude',\n",
       "       'end_longitude', 'end_turn_restricted', 'target'],\n",
       "      dtype='object')"
      ]
     },
     "execution_count": 3,
     "metadata": {},
     "output_type": "execute_result"
    }
   ],
   "source": [
    "train_df.columns"
   ]
  },
  {
   "cell_type": "code",
   "execution_count": 4,
   "metadata": {
    "scrolled": true
   },
   "outputs": [
    {
     "name": "stdout",
     "output_type": "stream",
     "text": [
      "4701217\n",
      "281\n",
      "7\n",
      "24\n",
      "2\n",
      "3\n",
      "3\n",
      "61\n",
      "2\n",
      "2\n",
      "6\n",
      "1\n",
      "4\n",
      "1\n",
      "2\n",
      "487\n",
      "586\n",
      "586\n",
      "2\n",
      "487\n",
      "586\n",
      "586\n",
      "2\n",
      "102\n"
     ]
    }
   ],
   "source": [
    "for i in train_df.columns:\n",
    "    print(len(train_df[i].unique()))"
   ]
  },
  {
   "cell_type": "code",
   "execution_count": 5,
   "metadata": {},
   "outputs": [
    {
     "data": {
      "text/html": [
       "<div>\n",
       "<style scoped>\n",
       "    .dataframe tbody tr th:only-of-type {\n",
       "        vertical-align: middle;\n",
       "    }\n",
       "\n",
       "    .dataframe tbody tr th {\n",
       "        vertical-align: top;\n",
       "    }\n",
       "\n",
       "    .dataframe thead th {\n",
       "        text-align: right;\n",
       "    }\n",
       "</style>\n",
       "<table border=\"1\" class=\"dataframe\">\n",
       "  <thead>\n",
       "    <tr style=\"text-align: right;\">\n",
       "      <th></th>\n",
       "      <th>id</th>\n",
       "      <th>base_date</th>\n",
       "      <th>day_of_week</th>\n",
       "      <th>base_hour</th>\n",
       "      <th>road_in_use</th>\n",
       "      <th>lane_count</th>\n",
       "      <th>road_rating</th>\n",
       "      <th>road_name</th>\n",
       "      <th>multi_linked</th>\n",
       "      <th>connect_code</th>\n",
       "      <th>...</th>\n",
       "      <th>height_restricted</th>\n",
       "      <th>road_type</th>\n",
       "      <th>start_node_name</th>\n",
       "      <th>start_latitude</th>\n",
       "      <th>start_longitude</th>\n",
       "      <th>start_turn_restricted</th>\n",
       "      <th>end_node_name</th>\n",
       "      <th>end_latitude</th>\n",
       "      <th>end_longitude</th>\n",
       "      <th>end_turn_restricted</th>\n",
       "    </tr>\n",
       "  </thead>\n",
       "  <tbody>\n",
       "    <tr>\n",
       "      <th>0</th>\n",
       "      <td>TEST_000000</td>\n",
       "      <td>20220825</td>\n",
       "      <td>목</td>\n",
       "      <td>17</td>\n",
       "      <td>0</td>\n",
       "      <td>3</td>\n",
       "      <td>107</td>\n",
       "      <td>연삼로</td>\n",
       "      <td>0</td>\n",
       "      <td>0</td>\n",
       "      <td>...</td>\n",
       "      <td>0.0</td>\n",
       "      <td>0</td>\n",
       "      <td>산지2교</td>\n",
       "      <td>33.499427</td>\n",
       "      <td>126.541298</td>\n",
       "      <td>없음</td>\n",
       "      <td>제주은행사거리</td>\n",
       "      <td>33.500772</td>\n",
       "      <td>126.543837</td>\n",
       "      <td>있음</td>\n",
       "    </tr>\n",
       "    <tr>\n",
       "      <th>1</th>\n",
       "      <td>TEST_000001</td>\n",
       "      <td>20220809</td>\n",
       "      <td>화</td>\n",
       "      <td>12</td>\n",
       "      <td>0</td>\n",
       "      <td>2</td>\n",
       "      <td>103</td>\n",
       "      <td>일반국도12호선</td>\n",
       "      <td>0</td>\n",
       "      <td>0</td>\n",
       "      <td>...</td>\n",
       "      <td>0.0</td>\n",
       "      <td>3</td>\n",
       "      <td>중문입구</td>\n",
       "      <td>33.258507</td>\n",
       "      <td>126.427003</td>\n",
       "      <td>없음</td>\n",
       "      <td>관광단지입구</td>\n",
       "      <td>33.258119</td>\n",
       "      <td>126.415840</td>\n",
       "      <td>없음</td>\n",
       "    </tr>\n",
       "    <tr>\n",
       "      <th>2</th>\n",
       "      <td>TEST_000002</td>\n",
       "      <td>20220805</td>\n",
       "      <td>금</td>\n",
       "      <td>2</td>\n",
       "      <td>0</td>\n",
       "      <td>1</td>\n",
       "      <td>103</td>\n",
       "      <td>일반국도16호선</td>\n",
       "      <td>0</td>\n",
       "      <td>0</td>\n",
       "      <td>...</td>\n",
       "      <td>0.0</td>\n",
       "      <td>0</td>\n",
       "      <td>도순3교</td>\n",
       "      <td>33.258960</td>\n",
       "      <td>126.476508</td>\n",
       "      <td>없음</td>\n",
       "      <td>도순2교</td>\n",
       "      <td>33.259206</td>\n",
       "      <td>126.474687</td>\n",
       "      <td>없음</td>\n",
       "    </tr>\n",
       "    <tr>\n",
       "      <th>3</th>\n",
       "      <td>TEST_000003</td>\n",
       "      <td>20220818</td>\n",
       "      <td>목</td>\n",
       "      <td>23</td>\n",
       "      <td>0</td>\n",
       "      <td>3</td>\n",
       "      <td>103</td>\n",
       "      <td>일반국도11호선</td>\n",
       "      <td>0</td>\n",
       "      <td>0</td>\n",
       "      <td>...</td>\n",
       "      <td>0.0</td>\n",
       "      <td>0</td>\n",
       "      <td>아라주공아파트</td>\n",
       "      <td>33.473494</td>\n",
       "      <td>126.545647</td>\n",
       "      <td>없음</td>\n",
       "      <td>인다마을</td>\n",
       "      <td>33.471061</td>\n",
       "      <td>126.545467</td>\n",
       "      <td>없음</td>\n",
       "    </tr>\n",
       "    <tr>\n",
       "      <th>4</th>\n",
       "      <td>TEST_000004</td>\n",
       "      <td>20220810</td>\n",
       "      <td>수</td>\n",
       "      <td>17</td>\n",
       "      <td>0</td>\n",
       "      <td>3</td>\n",
       "      <td>106</td>\n",
       "      <td>번영로</td>\n",
       "      <td>0</td>\n",
       "      <td>0</td>\n",
       "      <td>...</td>\n",
       "      <td>0.0</td>\n",
       "      <td>0</td>\n",
       "      <td>부록교 시종점</td>\n",
       "      <td>33.501477</td>\n",
       "      <td>126.569223</td>\n",
       "      <td>없음</td>\n",
       "      <td>봉개교 시종점</td>\n",
       "      <td>33.496863</td>\n",
       "      <td>126.581230</td>\n",
       "      <td>없음</td>\n",
       "    </tr>\n",
       "  </tbody>\n",
       "</table>\n",
       "<p>5 rows × 23 columns</p>\n",
       "</div>"
      ],
      "text/plain": [
       "            id  base_date day_of_week  base_hour  road_in_use  lane_count  \\\n",
       "0  TEST_000000   20220825           목         17            0           3   \n",
       "1  TEST_000001   20220809           화         12            0           2   \n",
       "2  TEST_000002   20220805           금          2            0           1   \n",
       "3  TEST_000003   20220818           목         23            0           3   \n",
       "4  TEST_000004   20220810           수         17            0           3   \n",
       "\n",
       "   road_rating road_name  multi_linked  connect_code  ...  height_restricted  \\\n",
       "0          107       연삼로             0             0  ...                0.0   \n",
       "1          103  일반국도12호선             0             0  ...                0.0   \n",
       "2          103  일반국도16호선             0             0  ...                0.0   \n",
       "3          103  일반국도11호선             0             0  ...                0.0   \n",
       "4          106       번영로             0             0  ...                0.0   \n",
       "\n",
       "   road_type  start_node_name  start_latitude  start_longitude  \\\n",
       "0          0             산지2교       33.499427       126.541298   \n",
       "1          3             중문입구       33.258507       126.427003   \n",
       "2          0             도순3교       33.258960       126.476508   \n",
       "3          0          아라주공아파트       33.473494       126.545647   \n",
       "4          0          부록교 시종점       33.501477       126.569223   \n",
       "\n",
       "  start_turn_restricted  end_node_name  end_latitude end_longitude  \\\n",
       "0                    없음        제주은행사거리     33.500772    126.543837   \n",
       "1                    없음         관광단지입구     33.258119    126.415840   \n",
       "2                    없음           도순2교     33.259206    126.474687   \n",
       "3                    없음           인다마을     33.471061    126.545467   \n",
       "4                    없음        봉개교 시종점     33.496863    126.581230   \n",
       "\n",
       "  end_turn_restricted  \n",
       "0                  있음  \n",
       "1                  없음  \n",
       "2                  없음  \n",
       "3                  없음  \n",
       "4                  없음  \n",
       "\n",
       "[5 rows x 23 columns]"
      ]
     },
     "execution_count": 5,
     "metadata": {},
     "output_type": "execute_result"
    }
   ],
   "source": [
    "test_df = pd.read_csv('../data/test.csv')\n",
    "test_df.head()"
   ]
  },
  {
   "cell_type": "code",
   "execution_count": 6,
   "metadata": {},
   "outputs": [
    {
     "data": {
      "text/plain": [
       "Index(['id', 'base_date', 'day_of_week', 'base_hour', 'road_in_use',\n",
       "       'lane_count', 'road_rating', 'road_name', 'multi_linked',\n",
       "       'connect_code', 'maximum_speed_limit', 'vehicle_restricted',\n",
       "       'weight_restricted', 'height_restricted', 'road_type',\n",
       "       'start_node_name', 'start_latitude', 'start_longitude',\n",
       "       'start_turn_restricted', 'end_node_name', 'end_latitude',\n",
       "       'end_longitude', 'end_turn_restricted', 'target'],\n",
       "      dtype='object')"
      ]
     },
     "execution_count": 6,
     "metadata": {},
     "output_type": "execute_result"
    }
   ],
   "source": [
    "train_df.columns"
   ]
  },
  {
   "cell_type": "code",
   "execution_count": 7,
   "metadata": {},
   "outputs": [],
   "source": [
    "drop_col = ['id', 'vehicle_restricted', 'height_restricted','start_node_name', 'start_longitude', \n",
    "            'end_node_name', 'end_longitude', 'base_date', 'road_in_use']\n",
    "x = train_df.drop(drop_col, axis = 1)\n",
    "x = x.drop('target', axis = 1)\n",
    "y = train_df.loc[:, 'target']\n",
    "\n",
    "test_data = test_df.drop(drop_col, axis = 1)"
   ]
  },
  {
   "cell_type": "code",
   "execution_count": 8,
   "metadata": {},
   "outputs": [],
   "source": [
    "dumm_cols = ['day_of_week', 'base_hour', 'road_rating', 'road_name', \n",
    "             'multi_linked', 'connect_code', 'road_type', \n",
    "             'start_turn_restricted', 'end_turn_restricted']"
   ]
  },
  {
   "cell_type": "code",
   "execution_count": 9,
   "metadata": {},
   "outputs": [],
   "source": [
    "for col in dumm_cols:\n",
    "    ohe = OneHotEncoder(sparse=False) # 나중에 drop 적용해보기\n",
    "    \n",
    "    temp_x = ohe.fit_transform(x[col].values.reshape(-1,1))\n",
    "#     temp_x_df = pd.DataFrame(temp_x, columns=ohe.categories_[0])\n",
    "    temp_x_df = pd.DataFrame(temp_x, columns=ohe.get_feature_names([col]))\n",
    "    x.drop(col, axis=1, inplace = True)\n",
    "    x = pd.concat([x, temp_x_df], axis = 1)\n",
    "    \n",
    "    temp_test = ohe.transform(test_data[col].values.reshape(-1,1))\n",
    "#     temp_test_df = pd.DataFrame(temp_test, columns=ohe.categories_[0])\n",
    "    temp_test_df = pd.DataFrame(temp_test, columns=ohe.get_feature_names([col]))\n",
    "    test_data.drop(col, axis=1, inplace = True)\n",
    "    test_data = pd.concat([test_data, temp_test_df], axis = 1)"
   ]
  },
  {
   "cell_type": "code",
   "execution_count": 10,
   "metadata": {},
   "outputs": [],
   "source": [
    "# for col in dumm_cols:\n",
    "#     le = LabelEncoder()\n",
    "#     x[col] = le.fit_transform(x[col])\n",
    "#     test_data[col] = le.transform(x_test[col])"
   ]
  },
  {
   "cell_type": "code",
   "execution_count": 11,
   "metadata": {},
   "outputs": [
    {
     "data": {
      "text/plain": [
       "(4701217, 110)"
      ]
     },
     "execution_count": 11,
     "metadata": {},
     "output_type": "execute_result"
    }
   ],
   "source": [
    "x.shape"
   ]
  },
  {
   "cell_type": "code",
   "execution_count": 12,
   "metadata": {},
   "outputs": [
    {
     "data": {
      "text/plain": [
       "(291241, 110)"
      ]
     },
     "execution_count": 12,
     "metadata": {},
     "output_type": "execute_result"
    }
   ],
   "source": [
    "test_data.shape"
   ]
  },
  {
   "cell_type": "code",
   "execution_count": 18,
   "metadata": {},
   "outputs": [],
   "source": [
    "x_train, x_val, y_train, y_val = train_test_split(x, y, test_size=.2, random_state = 2022)"
   ]
  },
  {
   "cell_type": "code",
   "execution_count": 14,
   "metadata": {},
   "outputs": [],
   "source": [
    "# x_train.to_csv('../data/train1_origin/x_train.csv', index=False)\n",
    "# x_val.to_csv('../data/train1_origin/x_val.csv', index=False)\n",
    "# y_train.to_csv('../data/train1_origin/y_train.csv', index=False)\n",
    "# y_val.to_csv('../data/train1_origin/y_val.csv', index=False)\n",
    "# test_data.to_csv('../data/train1_origin/x_test.csv', index=False)"
   ]
  },
  {
   "cell_type": "code",
   "execution_count": 12,
   "metadata": {},
   "outputs": [
    {
     "data": {
      "text/plain": [
       "RandomForestRegressor(max_depth=3, n_estimators=5)"
      ]
     },
     "execution_count": 12,
     "metadata": {},
     "output_type": "execute_result"
    }
   ],
   "source": [
    "from sklearn.model_selection import GridSearchCV\n",
    " \n",
    "model = RandomForestRegressor(n_estimators = 5, max_depth = 3, verbose = 0)\n",
    " \n",
    "# grid_search = GridSearchCV(forest_reg, param_grid, cv=5, verbose = 10)\n",
    " \n",
    "model.fit(x, y)"
   ]
  },
  {
   "cell_type": "code",
   "execution_count": 13,
   "metadata": {},
   "outputs": [],
   "source": [
    "pred = model.predict(test_data)"
   ]
  },
  {
   "cell_type": "code",
   "execution_count": 14,
   "metadata": {},
   "outputs": [
    {
     "data": {
      "text/html": [
       "<div>\n",
       "<style scoped>\n",
       "    .dataframe tbody tr th:only-of-type {\n",
       "        vertical-align: middle;\n",
       "    }\n",
       "\n",
       "    .dataframe tbody tr th {\n",
       "        vertical-align: top;\n",
       "    }\n",
       "\n",
       "    .dataframe thead th {\n",
       "        text-align: right;\n",
       "    }\n",
       "</style>\n",
       "<table border=\"1\" class=\"dataframe\">\n",
       "  <thead>\n",
       "    <tr style=\"text-align: right;\">\n",
       "      <th></th>\n",
       "      <th>id</th>\n",
       "      <th>target</th>\n",
       "    </tr>\n",
       "  </thead>\n",
       "  <tbody>\n",
       "    <tr>\n",
       "      <th>0</th>\n",
       "      <td>TEST_000000</td>\n",
       "      <td>28.693139</td>\n",
       "    </tr>\n",
       "    <tr>\n",
       "      <th>1</th>\n",
       "      <td>TEST_000001</td>\n",
       "      <td>46.297487</td>\n",
       "    </tr>\n",
       "    <tr>\n",
       "      <th>2</th>\n",
       "      <td>TEST_000002</td>\n",
       "      <td>46.297487</td>\n",
       "    </tr>\n",
       "    <tr>\n",
       "      <th>3</th>\n",
       "      <td>TEST_000003</td>\n",
       "      <td>35.713850</td>\n",
       "    </tr>\n",
       "    <tr>\n",
       "      <th>4</th>\n",
       "      <td>TEST_000004</td>\n",
       "      <td>35.713850</td>\n",
       "    </tr>\n",
       "  </tbody>\n",
       "</table>\n",
       "</div>"
      ],
      "text/plain": [
       "            id     target\n",
       "0  TEST_000000  28.693139\n",
       "1  TEST_000001  46.297487\n",
       "2  TEST_000002  46.297487\n",
       "3  TEST_000003  35.713850\n",
       "4  TEST_000004  35.713850"
      ]
     },
     "execution_count": 14,
     "metadata": {},
     "output_type": "execute_result"
    }
   ],
   "source": [
    "result = pd.DataFrame({'id':test_df['id'], 'target':pred})\n",
    "result.head()"
   ]
  },
  {
   "cell_type": "code",
   "execution_count": 15,
   "metadata": {},
   "outputs": [],
   "source": [
    "result.to_csv('../data/submission_v2.csv', index=False)"
   ]
  },
  {
   "cell_type": "code",
   "execution_count": 17,
   "metadata": {},
   "outputs": [],
   "source": [
    "from pycaret.regression import *"
   ]
  },
  {
   "cell_type": "code",
   "execution_count": null,
   "metadata": {},
   "outputs": [
    {
     "data": {
      "application/vnd.jupyter.widget-view+json": {
       "model_id": "8742d5e871974949ad22725027e5ef50",
       "version_major": 2,
       "version_minor": 0
      },
      "text/plain": [
       "IntProgress(value=0, description='Processing: ', max=3)"
      ]
     },
     "metadata": {},
     "output_type": "display_data"
    },
    {
     "data": {
      "text/html": [
       "<div>\n",
       "<style scoped>\n",
       "    .dataframe tbody tr th:only-of-type {\n",
       "        vertical-align: middle;\n",
       "    }\n",
       "\n",
       "    .dataframe tbody tr th {\n",
       "        vertical-align: top;\n",
       "    }\n",
       "\n",
       "    .dataframe thead th {\n",
       "        text-align: right;\n",
       "    }\n",
       "</style>\n",
       "<table border=\"1\" class=\"dataframe\">\n",
       "  <thead>\n",
       "    <tr style=\"text-align: right;\">\n",
       "      <th></th>\n",
       "      <th></th>\n",
       "      <th></th>\n",
       "    </tr>\n",
       "    <tr>\n",
       "      <th></th>\n",
       "      <th></th>\n",
       "      <th></th>\n",
       "    </tr>\n",
       "  </thead>\n",
       "  <tbody>\n",
       "    <tr>\n",
       "      <th>Initiated</th>\n",
       "      <td>. . . . . . . . . . . . . . . . . .</td>\n",
       "      <td>22:27:52</td>\n",
       "    </tr>\n",
       "    <tr>\n",
       "      <th>Status</th>\n",
       "      <td>. . . . . . . . . . . . . . . . . .</td>\n",
       "      <td>Preprocessing Data</td>\n",
       "    </tr>\n",
       "  </tbody>\n",
       "</table>\n",
       "</div>"
      ],
      "text/plain": [
       "                                                                  \n",
       "                                                                  \n",
       "Initiated  . . . . . . . . . . . . . . . . . .            22:27:52\n",
       "Status     . . . . . . . . . . . . . . . . . .  Preprocessing Data"
      ]
     },
     "metadata": {},
     "output_type": "display_data"
    }
   ],
   "source": [
    "setup(session_id = 2022, data = pd.concat([x_train,y_train],axis=1), target = 'target',\n",
    "      test_data = pd.concat([x_val,y_val],axis=1),\n",
    "      normalize = True, normalize_method = 'zscore',\n",
    "      transformation=True, \n",
    "      #fold_strategy='stratifiedkfold', \n",
    "      use_gpu = True)"
   ]
  },
  {
   "cell_type": "code",
   "execution_count": 38,
   "metadata": {},
   "outputs": [
    {
     "ename": "KeyboardInterrupt",
     "evalue": "",
     "output_type": "error",
     "traceback": [
      "\u001b[0;31m---------------------------------------------------------------------------\u001b[0m",
      "\u001b[0;31mKeyboardInterrupt\u001b[0m                         Traceback (most recent call last)",
      "Input \u001b[0;32mIn [38]\u001b[0m, in \u001b[0;36m<cell line: 1>\u001b[0;34m()\u001b[0m\n\u001b[0;32m----> 1\u001b[0m \u001b[43mx_train\u001b[49m\u001b[38;5;241;43m.\u001b[39;49m\u001b[43mcorr\u001b[49m\u001b[43m(\u001b[49m\u001b[43m)\u001b[49m\n",
      "File \u001b[0;32m~/.local/lib/python3.8/site-packages/pandas/core/frame.py:9534\u001b[0m, in \u001b[0;36mDataFrame.corr\u001b[0;34m(self, method, min_periods)\u001b[0m\n\u001b[1;32m   9531\u001b[0m mat \u001b[38;5;241m=\u001b[39m numeric_df\u001b[38;5;241m.\u001b[39mto_numpy(dtype\u001b[38;5;241m=\u001b[39m\u001b[38;5;28mfloat\u001b[39m, na_value\u001b[38;5;241m=\u001b[39mnp\u001b[38;5;241m.\u001b[39mnan, copy\u001b[38;5;241m=\u001b[39m\u001b[38;5;28;01mFalse\u001b[39;00m)\n\u001b[1;32m   9533\u001b[0m \u001b[38;5;28;01mif\u001b[39;00m method \u001b[38;5;241m==\u001b[39m \u001b[38;5;124m\"\u001b[39m\u001b[38;5;124mpearson\u001b[39m\u001b[38;5;124m\"\u001b[39m:\n\u001b[0;32m-> 9534\u001b[0m     correl \u001b[38;5;241m=\u001b[39m \u001b[43mlibalgos\u001b[49m\u001b[38;5;241;43m.\u001b[39;49m\u001b[43mnancorr\u001b[49m\u001b[43m(\u001b[49m\u001b[43mmat\u001b[49m\u001b[43m,\u001b[49m\u001b[43m \u001b[49m\u001b[43mminp\u001b[49m\u001b[38;5;241;43m=\u001b[39;49m\u001b[43mmin_periods\u001b[49m\u001b[43m)\u001b[49m\n\u001b[1;32m   9535\u001b[0m \u001b[38;5;28;01melif\u001b[39;00m method \u001b[38;5;241m==\u001b[39m \u001b[38;5;124m\"\u001b[39m\u001b[38;5;124mspearman\u001b[39m\u001b[38;5;124m\"\u001b[39m:\n\u001b[1;32m   9536\u001b[0m     correl \u001b[38;5;241m=\u001b[39m libalgos\u001b[38;5;241m.\u001b[39mnancorr_spearman(mat, minp\u001b[38;5;241m=\u001b[39mmin_periods)\n",
      "\u001b[0;31mKeyboardInterrupt\u001b[0m: "
     ]
    }
   ],
   "source": [
    "x_train.corr()"
   ]
  },
  {
   "cell_type": "code",
   "execution_count": 11,
   "metadata": {},
   "outputs": [
    {
     "name": "stdout",
     "output_type": "stream",
     "text": [
      "lane_count\n",
      "maximum_speed_limit\n",
      "weight_restricted\n",
      "start_latitude\n",
      "end_latitude\n",
      "day_of_week_금\n",
      "day_of_week_목\n",
      "day_of_week_수\n",
      "day_of_week_월\n",
      "day_of_week_일\n",
      "day_of_week_토\n",
      "day_of_week_화\n",
      "base_hour_0\n",
      "base_hour_1\n",
      "base_hour_2\n",
      "base_hour_3\n",
      "base_hour_4\n",
      "base_hour_5\n",
      "base_hour_6\n",
      "base_hour_7\n",
      "base_hour_8\n",
      "base_hour_9\n",
      "base_hour_10\n",
      "base_hour_11\n",
      "base_hour_12\n",
      "base_hour_13\n",
      "base_hour_14\n",
      "base_hour_15\n",
      "base_hour_16\n",
      "base_hour_17\n",
      "base_hour_18\n",
      "base_hour_19\n",
      "base_hour_20\n",
      "base_hour_21\n",
      "base_hour_22\n",
      "base_hour_23\n",
      "road_rating_103\n",
      "road_rating_106\n",
      "road_rating_107\n",
      "road_name_-\n",
      "road_name_경찰로\n",
      "road_name_고평교\n",
      "road_name_관광단지1로\n",
      "road_name_관광단지2로\n",
      "road_name_관광단지로\n",
      "road_name_관덕로\n",
      "road_name_권학로\n",
      "road_name_남조로\n",
      "road_name_동문로\n",
      "road_name_동부관광도로\n",
      "road_name_동홍로\n",
      "road_name_번영로\n",
      "road_name_산서로\n",
      "road_name_삼무로\n",
      "road_name_삼봉로\n",
      "road_name_삼성로\n",
      "road_name_새서귀로\n",
      "road_name_서사로\n",
      "road_name_수영장길\n",
      "road_name_시민광장로\n",
      "road_name_시청로\n",
      "road_name_신광로\n",
      "road_name_신대로\n",
      "road_name_신산로\n",
      "road_name_아봉로\n",
      "road_name_애원로\n",
      "road_name_애조로\n",
      "road_name_어시천교\n",
      "road_name_연동로\n",
      "road_name_연북2교\n",
      "road_name_연북로\n",
      "road_name_연삼로\n",
      "road_name_외도천교\n",
      "road_name_일반국도11호선\n",
      "road_name_일반국도12호선\n",
      "road_name_일반국도16호선\n",
      "road_name_일반국도95호선\n",
      "road_name_일반국도99호선\n",
      "road_name_일주동로\n",
      "road_name_임항로\n",
      "road_name_제2거로교\n",
      "road_name_중문로\n",
      "road_name_중산간서로\n",
      "road_name_중앙로\n",
      "road_name_중정로\n",
      "road_name_지방도1112호선\n",
      "road_name_지방도1115호선\n",
      "road_name_지방도1116호선\n",
      "road_name_지방도1117호선\n",
      "road_name_지방도1118호선\n",
      "road_name_지방도1119호선\n",
      "road_name_지방도1120호선\n",
      "road_name_지방도1132호선\n",
      "road_name_지방도1136호선\n",
      "road_name_지방도97호선\n",
      "road_name_첨단로\n",
      "road_name_태평로\n",
      "road_name_한천로\n",
      "road_name_호근로\n",
      "road_name_호서중앙로\n",
      "multi_linked_0\n",
      "multi_linked_1\n",
      "connect_code_0\n",
      "connect_code_103\n",
      "road_type_0\n",
      "road_type_3\n",
      "start_turn_restricted_없음\n",
      "start_turn_restricted_있음\n",
      "end_turn_restricted_없음\n",
      "end_turn_restricted_있음\n"
     ]
    }
   ],
   "source": [
    "for i in x:\n",
    "    for j in x:\n",
    "        if i == j:\n",
    "            print(j)"
   ]
  },
  {
   "cell_type": "code",
   "execution_count": null,
   "metadata": {},
   "outputs": [],
   "source": []
  }
 ],
 "metadata": {
  "kernelspec": {
   "display_name": "Python 3 (ipykernel)",
   "language": "python",
   "name": "python3"
  },
  "language_info": {
   "codemirror_mode": {
    "name": "ipython",
    "version": 3
   },
   "file_extension": ".py",
   "mimetype": "text/x-python",
   "name": "python",
   "nbconvert_exporter": "python",
   "pygments_lexer": "ipython3",
   "version": "3.8.10"
  },
  "vscode": {
   "interpreter": {
    "hash": "cf92aa13fedf815d5c8dd192b8d835913fde3e8bc926b2a0ad6cc74ef2ba3ca2"
   }
  }
 },
 "nbformat": 4,
 "nbformat_minor": 2
}
